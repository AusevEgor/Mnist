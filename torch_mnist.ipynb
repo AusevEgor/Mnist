{
 "cells": [
  {
   "cell_type": "code",
   "execution_count": 7,
   "metadata": {
    "scrolled": true
   },
   "outputs": [],
   "source": [
    "import numpy as np # to handle matrix and data operation\n",
    "import pandas as pd # to read csv and handle dataframe\n",
    "from sklearn.utils import shuffle\n",
    "import matplotlib.pyplot as plt\n",
    "import torch\n",
    "import torch.nn as nn\n",
    "import torch.nn.functional as F\n",
    "import torch.utils.data\n",
    "from torch.autograd import Variable\n",
    "from collections import OrderedDict\n",
    "from skimage import transform\n",
    "import PIL\n",
    "# from PIL import Image, ImageOps, ImageEnhance, PILLOW_VERSION\n",
    "from keras.datasets import mnist\n",
    "\n",
    "# print(PIL.PILLOW_VERSION)\n",
    "\n",
    "from sklearn.model_selection import train_test_split"
   ]
  },
  {
   "cell_type": "code",
   "execution_count": 22,
   "metadata": {},
   "outputs": [],
   "source": [
    "(x_train, y_trains), (x_test, y_test) = mnist.load_data()"
   ]
  },
  {
   "cell_type": "code",
   "execution_count": 23,
   "metadata": {},
   "outputs": [],
   "source": [
    "x_train, y_trains = np.array(x_train), np.array(y_trains)\n",
    "x_train = np.reshape(x_train, (x_train.shape[0], 28*28))"
   ]
  },
  {
   "cell_type": "code",
   "execution_count": 26,
   "metadata": {},
   "outputs": [
    {
     "name": "stdout",
     "output_type": "stream",
     "text": [
      "(42000, 785)\n"
     ]
    }
   ],
   "source": [
    "train = pd.read_csv('train.csv')\n",
    "print(train.shape)\n",
    "label =train['label'].values\n",
    "# label =train['784'].values\n",
    "data =train.drop(['label'], 1).values\n",
    "# data =train.drop(['784', 'Unnamed: 0'], 1).values\n",
    "X_train, X_test, y_train, y_test = train_test_split(data, label, test_size=0.2)"
   ]
  },
  {
   "cell_type": "code",
   "execution_count": 52,
   "metadata": {
    "scrolled": true
   },
   "outputs": [
    {
     "data": {
      "text/html": [
       "<div>\n",
       "<style scoped>\n",
       "    .dataframe tbody tr th:only-of-type {\n",
       "        vertical-align: middle;\n",
       "    }\n",
       "\n",
       "    .dataframe tbody tr th {\n",
       "        vertical-align: top;\n",
       "    }\n",
       "\n",
       "    .dataframe thead th {\n",
       "        text-align: right;\n",
       "    }\n",
       "</style>\n",
       "<table border=\"1\" class=\"dataframe\">\n",
       "  <thead>\n",
       "    <tr style=\"text-align: right;\">\n",
       "      <th></th>\n",
       "      <th>Unnamed: 0</th>\n",
       "      <th>0</th>\n",
       "      <th>1</th>\n",
       "      <th>2</th>\n",
       "      <th>3</th>\n",
       "      <th>4</th>\n",
       "      <th>5</th>\n",
       "      <th>6</th>\n",
       "      <th>7</th>\n",
       "      <th>8</th>\n",
       "      <th>...</th>\n",
       "      <th>775</th>\n",
       "      <th>776</th>\n",
       "      <th>777</th>\n",
       "      <th>778</th>\n",
       "      <th>779</th>\n",
       "      <th>780</th>\n",
       "      <th>781</th>\n",
       "      <th>782</th>\n",
       "      <th>783</th>\n",
       "      <th>784</th>\n",
       "    </tr>\n",
       "  </thead>\n",
       "  <tbody>\n",
       "    <tr>\n",
       "      <th>0</th>\n",
       "      <td>0</td>\n",
       "      <td>0.0</td>\n",
       "      <td>0.0</td>\n",
       "      <td>0.0</td>\n",
       "      <td>0.0</td>\n",
       "      <td>0.0</td>\n",
       "      <td>0.0</td>\n",
       "      <td>0.0</td>\n",
       "      <td>0.0</td>\n",
       "      <td>0.0</td>\n",
       "      <td>...</td>\n",
       "      <td>0.0</td>\n",
       "      <td>0.0</td>\n",
       "      <td>0.0</td>\n",
       "      <td>0.0</td>\n",
       "      <td>0.0</td>\n",
       "      <td>0.0</td>\n",
       "      <td>0.0</td>\n",
       "      <td>0.0</td>\n",
       "      <td>0.0</td>\n",
       "      <td>8.0</td>\n",
       "    </tr>\n",
       "    <tr>\n",
       "      <th>1</th>\n",
       "      <td>1</td>\n",
       "      <td>0.0</td>\n",
       "      <td>0.0</td>\n",
       "      <td>0.0</td>\n",
       "      <td>0.0</td>\n",
       "      <td>0.0</td>\n",
       "      <td>0.0</td>\n",
       "      <td>0.0</td>\n",
       "      <td>0.0</td>\n",
       "      <td>0.0</td>\n",
       "      <td>...</td>\n",
       "      <td>0.0</td>\n",
       "      <td>0.0</td>\n",
       "      <td>0.0</td>\n",
       "      <td>0.0</td>\n",
       "      <td>0.0</td>\n",
       "      <td>0.0</td>\n",
       "      <td>0.0</td>\n",
       "      <td>0.0</td>\n",
       "      <td>0.0</td>\n",
       "      <td>8.0</td>\n",
       "    </tr>\n",
       "    <tr>\n",
       "      <th>2</th>\n",
       "      <td>2</td>\n",
       "      <td>0.0</td>\n",
       "      <td>0.0</td>\n",
       "      <td>0.0</td>\n",
       "      <td>0.0</td>\n",
       "      <td>0.0</td>\n",
       "      <td>0.0</td>\n",
       "      <td>0.0</td>\n",
       "      <td>0.0</td>\n",
       "      <td>0.0</td>\n",
       "      <td>...</td>\n",
       "      <td>0.0</td>\n",
       "      <td>0.0</td>\n",
       "      <td>0.0</td>\n",
       "      <td>0.0</td>\n",
       "      <td>0.0</td>\n",
       "      <td>0.0</td>\n",
       "      <td>0.0</td>\n",
       "      <td>0.0</td>\n",
       "      <td>0.0</td>\n",
       "      <td>8.0</td>\n",
       "    </tr>\n",
       "    <tr>\n",
       "      <th>3</th>\n",
       "      <td>3</td>\n",
       "      <td>0.0</td>\n",
       "      <td>0.0</td>\n",
       "      <td>0.0</td>\n",
       "      <td>0.0</td>\n",
       "      <td>0.0</td>\n",
       "      <td>0.0</td>\n",
       "      <td>0.0</td>\n",
       "      <td>0.0</td>\n",
       "      <td>0.0</td>\n",
       "      <td>...</td>\n",
       "      <td>0.0</td>\n",
       "      <td>0.0</td>\n",
       "      <td>0.0</td>\n",
       "      <td>0.0</td>\n",
       "      <td>0.0</td>\n",
       "      <td>0.0</td>\n",
       "      <td>0.0</td>\n",
       "      <td>0.0</td>\n",
       "      <td>0.0</td>\n",
       "      <td>8.0</td>\n",
       "    </tr>\n",
       "    <tr>\n",
       "      <th>4</th>\n",
       "      <td>4</td>\n",
       "      <td>0.0</td>\n",
       "      <td>0.0</td>\n",
       "      <td>0.0</td>\n",
       "      <td>0.0</td>\n",
       "      <td>0.0</td>\n",
       "      <td>0.0</td>\n",
       "      <td>0.0</td>\n",
       "      <td>0.0</td>\n",
       "      <td>0.0</td>\n",
       "      <td>...</td>\n",
       "      <td>0.0</td>\n",
       "      <td>0.0</td>\n",
       "      <td>0.0</td>\n",
       "      <td>0.0</td>\n",
       "      <td>0.0</td>\n",
       "      <td>0.0</td>\n",
       "      <td>0.0</td>\n",
       "      <td>0.0</td>\n",
       "      <td>0.0</td>\n",
       "      <td>8.0</td>\n",
       "    </tr>\n",
       "  </tbody>\n",
       "</table>\n",
       "<p>5 rows × 786 columns</p>\n",
       "</div>"
      ],
      "text/plain": [
       "   Unnamed: 0    0    1    2    3    4    5    6    7    8  ...  775  776  \\\n",
       "0           0  0.0  0.0  0.0  0.0  0.0  0.0  0.0  0.0  0.0  ...  0.0  0.0   \n",
       "1           1  0.0  0.0  0.0  0.0  0.0  0.0  0.0  0.0  0.0  ...  0.0  0.0   \n",
       "2           2  0.0  0.0  0.0  0.0  0.0  0.0  0.0  0.0  0.0  ...  0.0  0.0   \n",
       "3           3  0.0  0.0  0.0  0.0  0.0  0.0  0.0  0.0  0.0  ...  0.0  0.0   \n",
       "4           4  0.0  0.0  0.0  0.0  0.0  0.0  0.0  0.0  0.0  ...  0.0  0.0   \n",
       "\n",
       "   777  778  779  780  781  782  783  784  \n",
       "0  0.0  0.0  0.0  0.0  0.0  0.0  0.0  8.0  \n",
       "1  0.0  0.0  0.0  0.0  0.0  0.0  0.0  8.0  \n",
       "2  0.0  0.0  0.0  0.0  0.0  0.0  0.0  8.0  \n",
       "3  0.0  0.0  0.0  0.0  0.0  0.0  0.0  8.0  \n",
       "4  0.0  0.0  0.0  0.0  0.0  0.0  0.0  8.0  \n",
       "\n",
       "[5 rows x 786 columns]"
      ]
     },
     "execution_count": 52,
     "metadata": {},
     "output_type": "execute_result"
    }
   ],
   "source": [
    "train.head()"
   ]
  },
  {
   "cell_type": "code",
   "execution_count": null,
   "metadata": {},
   "outputs": [],
   "source": [
    "def add_new(x_t, y_t):\n",
    "    new_xt = []\n",
    "    new_yt = []\n",
    "    kru = np.zeros((28,5))\n",
    "    for i in range(x_t.shape[0]):\n",
    "        new_xt.append(np.concatenate((kru, x_t[i][:,:-5]), axis = 1))\n",
    "        new_xt.append(x_t[i])\n",
    "        new_xt.append(np.concatenate((x_t[i][:,5:], kru), axis = 1))\n",
    "        new_yt.append(y_t[i])\n",
    "        new_yt.append(y_t[i])\n",
    "        new_yt.append(y_t[i])\n",
    "#         break\n",
    "        if i%30000 == 0:\n",
    "            print(i/ x_t.shape[0])\n",
    "        \n",
    "    return np.array(new_xt), np.array(new_yt)"
   ]
  },
  {
   "cell_type": "code",
   "execution_count": 40,
   "metadata": {},
   "outputs": [],
   "source": [
    "def add_new_image(x_t, y_t):\n",
    "    new_xt = []\n",
    "    new_yt = []\n",
    "    for i in range(x_t.shape[0]):\n",
    "        for angle in range(-30, 35, 15):\n",
    "            a = np.reshape(x_t[i], (28, 28))\n",
    "            a = np.float32(a)\n",
    "            a = transform.rotate(a, angle)\n",
    "            a = np.int_(a)\n",
    "            new_xt.append(a)\n",
    "            new_yt.append(y_t[i])\n",
    "        if i%3000 == 0:\n",
    "            print(i/ x_t.shape[0])\n",
    "        \n",
    "    return np.array(new_xt), np.array(new_yt)"
   ]
  },
  {
   "cell_type": "code",
   "execution_count": 41,
   "metadata": {},
   "outputs": [
    {
     "name": "stdout",
     "output_type": "stream",
     "text": [
      "0.0\n",
      "0.08928571428571429\n",
      "0.17857142857142858\n",
      "0.26785714285714285\n",
      "0.35714285714285715\n",
      "0.44642857142857145\n",
      "0.5357142857142857\n",
      "0.625\n",
      "0.7142857142857143\n",
      "0.8035714285714286\n",
      "0.8928571428571429\n",
      "0.9821428571428571\n"
     ]
    }
   ],
   "source": [
    "X_train, y_train = add_new_image(X_train, y_train)"
   ]
  },
  {
   "cell_type": "code",
   "execution_count": null,
   "metadata": {},
   "outputs": [],
   "source": [
    "X_train, y_train = add_new(X_train, y_train)"
   ]
  },
  {
   "cell_type": "code",
   "execution_count": 9,
   "metadata": {},
   "outputs": [
    {
     "name": "stdout",
     "output_type": "stream",
     "text": [
      "(504000, 784) (504000, 1)\n"
     ]
    }
   ],
   "source": [
    "X_train = np.reshape(X_train, (X_train.shape[0], 28*28))\n",
    "y_train = np.reshape(y_train, (y_train.shape[0], 1))\n",
    "print(X_train.shape, y_train.shape)"
   ]
  },
  {
   "cell_type": "code",
   "execution_count": 4,
   "metadata": {},
   "outputs": [
    {
     "ename": "ValueError",
     "evalue": "all the input arrays must have same number of dimensions, but the array at index 0 has 2 dimension(s) and the array at index 1 has 1 dimension(s)",
     "output_type": "error",
     "traceback": [
      "\u001b[0;31m---------------------------------------------------------------------------\u001b[0m",
      "\u001b[0;31mValueError\u001b[0m                                Traceback (most recent call last)",
      "\u001b[0;32m<ipython-input-4-e7ab0a1fcb32>\u001b[0m in \u001b[0;36m<module>\u001b[0;34m\u001b[0m\n\u001b[0;32m----> 1\u001b[0;31m \u001b[0mwer\u001b[0m \u001b[0;34m=\u001b[0m \u001b[0mpd\u001b[0m\u001b[0;34m.\u001b[0m\u001b[0mDataFrame\u001b[0m\u001b[0;34m(\u001b[0m\u001b[0mnp\u001b[0m\u001b[0;34m.\u001b[0m\u001b[0mconcatenate\u001b[0m\u001b[0;34m(\u001b[0m\u001b[0;34m(\u001b[0m\u001b[0mX_train\u001b[0m\u001b[0;34m,\u001b[0m \u001b[0my_train\u001b[0m\u001b[0;34m)\u001b[0m\u001b[0;34m,\u001b[0m \u001b[0maxis\u001b[0m \u001b[0;34m=\u001b[0m \u001b[0;36m1\u001b[0m\u001b[0;34m)\u001b[0m\u001b[0;34m)\u001b[0m\u001b[0;34m\u001b[0m\u001b[0;34m\u001b[0m\u001b[0m\n\u001b[0m\u001b[1;32m      2\u001b[0m \u001b[0mwer\u001b[0m\u001b[0;34m.\u001b[0m\u001b[0mto_csv\u001b[0m\u001b[0;34m(\u001b[0m\u001b[0;34m'new_test.csv'\u001b[0m\u001b[0;34m)\u001b[0m\u001b[0;34m\u001b[0m\u001b[0;34m\u001b[0m\u001b[0m\n",
      "\u001b[0;32m<__array_function__ internals>\u001b[0m in \u001b[0;36mconcatenate\u001b[0;34m(*args, **kwargs)\u001b[0m\n",
      "\u001b[0;31mValueError\u001b[0m: all the input arrays must have same number of dimensions, but the array at index 0 has 2 dimension(s) and the array at index 1 has 1 dimension(s)"
     ]
    }
   ],
   "source": [
    "wer = pd.DataFrame(np.concatenate((X_train, y_train), axis = 1))\n",
    "wer.to_csv('new_test.csv')"
   ]
  },
  {
   "cell_type": "code",
   "execution_count": 27,
   "metadata": {},
   "outputs": [
    {
     "name": "stdout",
     "output_type": "stream",
     "text": [
      "[6 6 1 7 3 1 0 2 2 3]\n"
     ]
    }
   ],
   "source": [
    "X_train = np.concatenate((X_train, x_train), axis = 0)\n",
    "y_train = np.concatenate([y_train, y_trains], axis = 0)\n",
    "\n",
    "BATCH_SIZE = 128\n",
    "print(y_train[:10])\n",
    "\n",
    "torch_X_train = torch.from_numpy(X_train).type(torch.LongTensor)\n",
    "torch_y_train = torch.from_numpy(y_train).type(torch.LongTensor)\n",
    "\n",
    "torch_X_test = torch.from_numpy(X_test).type(torch.LongTensor)\n",
    "torch_y_test = torch.from_numpy(y_test).type(torch.LongTensor)\n",
    "\n",
    "\n",
    "torch_X_train = torch_X_train.view(-1, 1,28,28).float()\n",
    "torch_X_test = torch_X_test.view(-1,1,28,28).float()\n",
    "\n",
    "train = torch.utils.data.TensorDataset(torch_X_train,torch_y_train)\n",
    "test = torch.utils.data.TensorDataset(torch_X_test,torch_y_test)\n",
    "\n",
    "train_loader = torch.utils.data.DataLoader(train, batch_size= BATCH_SIZE)\n",
    "test_loader = torch.utils.data.DataLoader(test, batch_size = BATCH_SIZE)\n"
   ]
  },
  {
   "cell_type": "code",
   "execution_count": 9,
   "metadata": {},
   "outputs": [
    {
     "name": "stdout",
     "output_type": "stream",
     "text": [
      "32.89481 3.90625\n",
      "32.745415 4.671875\n",
      "33.81208 4.40625\n",
      "33.70454 4.4609375\n",
      "33.126534 4.2109375\n",
      "32.54841 5.09375\n",
      "32.57675 4.78125\n",
      "32.45498 4.578125\n",
      "33.80443 4.5234375\n",
      "36.218422 4.1953125\n",
      "32.540157 4.578125\n",
      "32.476383 4.4609375\n",
      "33.771088 4.890625\n",
      "33.874184 4.8203125\n",
      "36.02646 4.4609375\n",
      "34.177635 4.703125\n",
      "33.729042 4.3359375\n",
      "34.912758 4.6015625\n",
      "34.458168 5.03125\n",
      "34.030003 4.75\n",
      "30.421776 4.671875\n",
      "33.286682 4.8828125\n",
      "35.259777 4.2109375\n",
      "33.083607 3.953125\n",
      "32.837013 4.46875\n",
      "33.20153 4.671875\n",
      "32.78405 4.5546875\n",
      "33.79753 4.21875\n",
      "32.696697 4.4453125\n",
      "31.239407 4.171875\n",
      "35.130253 4.5078125\n",
      "32.930225 4.5546875\n",
      "33.910225 4.5078125\n",
      "33.612503 4.40625\n",
      "33.531967 4.4765625\n",
      "33.17669 4.6171875\n",
      "32.75867 4.6796875\n",
      "33.883022 4.0703125\n",
      "32.50002 4.296875\n",
      "34.6502 4.4921875\n",
      "32.131157 4.4921875\n",
      "34.564274 4.21875\n",
      "32.33729 4.7890625\n",
      "34.306602 4.1875\n",
      "31.778042 4.7265625\n",
      "32.087982 4.46875\n",
      "33.418217 4.15625\n",
      "33.532925 4.71875\n",
      "32.492416 4.765625\n",
      "32.527973 4.7578125\n",
      "35.225826 4.0859375\n",
      "33.912487 4.5\n",
      "35.100956 4.4375\n",
      "34.103348 4.171875\n",
      "33.57056 4.6171875\n",
      "32.02836 4.8515625\n",
      "31.839415 4.6171875\n",
      "32.71013 4.4609375\n",
      "33.06771 4.3515625\n",
      "32.742737 4.1640625\n",
      "33.762936 4.109375\n",
      "35.410454 5.078125\n",
      "33.16733 4.734375\n",
      "34.529625 3.9375\n",
      "31.924625 4.65625\n",
      "35.032864 4.9765625\n",
      "30.658901 4.2734375\n",
      "34.353863 4.2890625\n",
      "32.08744 5.0\n",
      "34.432835 4.546875\n",
      "34.13664 4.9765625\n",
      "34.183445 4.640625\n",
      "34.13617 4.7734375\n",
      "31.676369 4.5703125\n",
      "33.202835 4.1953125\n",
      "33.824886 4.1328125\n",
      "34.22741 4.484375\n",
      "33.67371 4.875\n",
      "33.29224 4.3671875\n",
      "33.893227 4.1640625\n",
      "34.021164 4.8203125\n",
      "33.762405 4.328125\n",
      "32.097588 4.4609375\n",
      "33.334183 4.375\n",
      "34.131287 4.390625\n",
      "32.609364 4.484375\n",
      "33.496773 5.03125\n",
      "34.42892 4.3828125\n",
      "33.197784 4.4375\n",
      "32.507263 4.6953125\n",
      "33.48291 4.6328125\n",
      "33.685127 4.25\n",
      "33.445522 4.28125\n",
      "33.682117 5.1328125\n",
      "32.12495 4.53125\n",
      "34.174953 4.4453125\n",
      "32.38049 4.0625\n",
      "34.478863 4.5\n",
      "33.27028 4.390625\n",
      "32.73354 4.078125\n",
      "33.193886 4.5390625\n",
      "34.399284 4.75\n",
      "33.371113 4.5234375\n",
      "32.77287 4.2265625\n",
      "32.48035 4.21875\n",
      "35.198322 4.53125\n",
      "33.202847 4.3984375\n",
      "33.510036 4.4375\n",
      "33.282406 4.40625\n",
      "33.66759 4.609375\n",
      "33.69359 4.15625\n",
      "32.84115 4.2578125\n",
      "33.24806 4.515625\n",
      "32.766563 4.6484375\n",
      "33.856346 5.0\n",
      "34.256596 4.5\n",
      "32.36118 4.3046875\n",
      "33.38368 4.9296875\n",
      "33.120975 4.234375\n",
      "32.966347 4.3671875\n",
      "32.55391 4.3125\n",
      "33.558296 4.234375\n",
      "33.449917 3.890625\n",
      "30.950594 3.828125\n",
      "32.410973 4.3984375\n",
      "33.754814 4.5625\n",
      "33.046486 4.2109375\n",
      "32.933384 4.359375\n",
      "33.87576 4.421875\n",
      "34.617874 4.46875\n",
      "32.55313 3.9453125\n",
      "32.209312 4.4453125\n",
      "35.03696 4.046875\n",
      "34.757633 3.8984375\n",
      "35.333824 4.1015625\n",
      "34.39516 4.6640625\n",
      "33.65999 4.2578125\n",
      "32.98034 4.578125\n",
      "32.689293 4.328125\n",
      "33.28437 4.234375\n",
      "32.959343 4.1015625\n",
      "34.121414 4.5859375\n",
      "31.910067 4.34375\n",
      "33.17287 4.3046875\n",
      "32.39777 4.2265625\n",
      "33.549767 4.65625\n",
      "32.909927 4.0390625\n",
      "33.038635 4.4765625\n",
      "32.989487 4.4296875\n",
      "33.538536 4.4296875\n",
      "33.370697 4.5546875\n",
      "34.25819 4.7734375\n",
      "35.29591 4.1484375\n",
      "31.692472 4.2890625\n",
      "34.220963 4.6328125\n",
      "34.021782 4.9453125\n",
      "34.014896 4.6796875\n",
      "32.932686 4.84375\n",
      "33.904823 4.6875\n",
      "34.22679 4.1796875\n",
      "34.775608 4.28125\n",
      "32.478565 4.3515625\n",
      "32.75595 4.421875\n",
      "33.17339 4.34375\n",
      "36.19069 4.75\n"
     ]
    }
   ],
   "source": [
    "for i, j in train_loader:\n",
    "    print(np.mean(np.array(i)),np.mean(np.array(j)))"
   ]
  },
  {
   "cell_type": "code",
   "execution_count": null,
   "metadata": {},
   "outputs": [],
   "source": []
  },
  {
   "cell_type": "code",
   "execution_count": 11,
   "metadata": {},
   "outputs": [],
   "source": [
    "class Alexnet(nn.Module):\n",
    "    def __init__(self):\n",
    "        super(Alexnet, self).__init__()\n",
    "        \n",
    "\n",
    "        \n",
    "        self.conv1 = nn.Conv2d(1, 32, kernel_size=5, padding=4)\n",
    "        self.batch1 = nn.BatchNorm2d(32)\n",
    "        \n",
    "        self.conv2 = nn.Conv2d(32, 32, kernel_size=5, padding=4)\n",
    "        self.batch2 = nn.BatchNorm2d(32)\n",
    "        \n",
    "        \n",
    "        self.conv3 = nn.Conv2d(32, 64, kernel_size=5, padding=2)\n",
    "        self.batch3 = nn.BatchNorm2d(64)\n",
    "        \n",
    "        \n",
    "        self.conv4 = nn.Conv2d(64, 64, kernel_size=5, padding = 2)\n",
    "        self.batch4 = nn.BatchNorm2d(64)\n",
    "                 \n",
    "        self.conv5 = nn.Conv2d(64, 64, kernel_size=3, padding = 2)\n",
    "        self.batch5 = nn.BatchNorm2d(64)\n",
    "        \n",
    "        self.conv6 = nn.Conv2d(64, 64, kernel_size=3, padding = 2)\n",
    "        self.batch6 = nn.BatchNorm2d(64)\n",
    "        \n",
    "\n",
    "        self.conv7 = nn.Conv2d(64, 128, kernel_size=3)\n",
    "        \n",
    "        self.conv8 = nn.Conv2d(128, 128, kernel_size=3)\n",
    "\n",
    "\n",
    "        self.fc1 = nn.Linear(3 * 3 * 128, 2*128)\n",
    "        self.fc2 = nn.Linear(2*128, 64)\n",
    "        self.fc3 = nn.Linear(64, 10)\n",
    "\n",
    "    def forward(self, x):\n",
    "        x = F.relu(self.conv1(x))\n",
    "        x = self.batch1(x)\n",
    "        x = F.relu(self.conv2(x), 2)\n",
    "        x = self.batch2(x)\n",
    "        x = F.max_pool2d(x, 2)\n",
    "        x = F.relu(self.conv3(x), 2)\n",
    "        x = self.batch3(x)\n",
    "        x = F.max_pool2d(x, 2)\n",
    "        x = F.relu(self.conv4(x), 2)\n",
    "        x = self.batch4(x)\n",
    "        x = F.relu(self.conv5(x), 2)\n",
    "        x = self.batch5(x)\n",
    "        x = F.max_pool2d(x, 2)\n",
    "        x = F.relu(self.conv6(x), 2)\n",
    "        x = self.batch6(x)\n",
    "        x = F.relu(self.conv7(x), 2)\n",
    "        x = F.relu(self.conv8(x), 2)\n",
    "        x = x.view(-1, 3 * 3 * 128)\n",
    "        x = F.relu(self.fc1(x))\n",
    "        x = F.relu(self.fc2(x))\n",
    "        x = self.fc3(x)\n",
    "        x = F.log_softmax(x, dim=1)\n",
    "        return x"
   ]
  },
  {
   "cell_type": "code",
   "execution_count": null,
   "metadata": {},
   "outputs": [],
   "source": []
  },
  {
   "cell_type": "code",
   "execution_count": 66,
   "metadata": {},
   "outputs": [
    {
     "data": {
      "text/plain": [
       "(93600, 784)"
      ]
     },
     "execution_count": 66,
     "metadata": {},
     "output_type": "execute_result"
    }
   ],
   "source": [
    "X_train.shape"
   ]
  },
  {
   "cell_type": "code",
   "execution_count": 72,
   "metadata": {},
   "outputs": [
    {
     "name": "stdout",
     "output_type": "stream",
     "text": [
      "Alexnet(\n",
      "  (conv1): Conv2d(1, 32, kernel_size=(5, 5), stride=(1, 1), padding=(4, 4))\n",
      "  (batch1): BatchNorm2d(32, eps=1e-05, momentum=0.1, affine=True, track_running_stats=True)\n",
      "  (conv2): Conv2d(32, 32, kernel_size=(5, 5), stride=(1, 1), padding=(4, 4))\n",
      "  (batch2): BatchNorm2d(32, eps=1e-05, momentum=0.1, affine=True, track_running_stats=True)\n",
      "  (conv3): Conv2d(32, 64, kernel_size=(5, 5), stride=(1, 1), padding=(2, 2))\n",
      "  (batch3): BatchNorm2d(64, eps=1e-05, momentum=0.1, affine=True, track_running_stats=True)\n",
      "  (conv4): Conv2d(64, 64, kernel_size=(5, 5), stride=(1, 1), padding=(2, 2))\n",
      "  (batch4): BatchNorm2d(64, eps=1e-05, momentum=0.1, affine=True, track_running_stats=True)\n",
      "  (conv5): Conv2d(64, 64, kernel_size=(3, 3), stride=(1, 1), padding=(2, 2))\n",
      "  (batch5): BatchNorm2d(64, eps=1e-05, momentum=0.1, affine=True, track_running_stats=True)\n",
      "  (conv6): Conv2d(64, 64, kernel_size=(3, 3), stride=(1, 1), padding=(2, 2))\n",
      "  (batch6): BatchNorm2d(64, eps=1e-05, momentum=0.1, affine=True, track_running_stats=True)\n",
      "  (conv7): Conv2d(64, 128, kernel_size=(3, 3), stride=(1, 1))\n",
      "  (conv8): Conv2d(128, 128, kernel_size=(3, 3), stride=(1, 1))\n",
      "  (fc1): Linear(in_features=1152, out_features=256, bias=True)\n",
      "  (fc2): Linear(in_features=256, out_features=64, bias=True)\n",
      "  (fc3): Linear(in_features=64, out_features=10, bias=True)\n",
      ")\n"
     ]
    }
   ],
   "source": [
    "mlp = Alexnet()\n",
    "print(mlp)"
   ]
  },
  {
   "cell_type": "code",
   "execution_count": 28,
   "metadata": {},
   "outputs": [],
   "source": [
    "def fit(model, train_x, train_y, loader, optimizer, EPOCH, error, batch):\n",
    "        \n",
    "    model.train()\n",
    "    for epoch in range(EPOCH):\n",
    "        correct = 0\n",
    "        \n",
    "        x, y = shuffle(train_x, train_y)\n",
    "        for batch_idx in range(len(x)//batch + 1):\n",
    "#             x_batch = np.array(x[batch*batch_idx : batch*(batch_idx +1)])\n",
    "#             x_batch = np.array(x[33580: len(x)])\n",
    "#             y_batch = np.array(y[33580: len(x)])\n",
    "            x_batch = np.array(x[batch* batch_idx: min(len(x), batch*(batch_idx +1))])\n",
    "            y_batch = np.array(y[batch* batch_idx: min(len(x), batch*(batch_idx +1))])\n",
    "            x_batch = np.reshape(x_batch, (x_batch.shape[0], 1, 28, 28))\n",
    "            if x_batch.shape[0] == 0:\n",
    "                continue\n",
    "            \n",
    "            torch_x_train = torch.from_numpy(x_batch).type(torch.LongTensor)\n",
    "            torch_y_train = torch.from_numpy(y_batch).type(torch.LongTensor)\n",
    "        \n",
    "            var_X_batch = Variable(torch_x_train).float()\n",
    "            var_y_batch = Variable(torch_y_train)\n",
    "            optimizer.zero_grad()\n",
    "            output = model(var_X_batch)\n",
    "            loss = error(output, var_y_batch)\n",
    "            \n",
    "            loss.backward()\n",
    "            optimizer.step()\n",
    "            \n",
    "            # Total correct predictions\n",
    "            predicted = torch.max(output.data, 1)[1] \n",
    "            correct += (predicted == var_y_batch).sum()\n",
    "            #print(correct)\n",
    "            if batch_idx % 100 == 0:\n",
    "                print('Epoch : {} [{}/{} ({:.0f}%)]\\tLoss: {:.6f}\\t Accuracy:{:.3f}%'.format(\n",
    "                    epoch, batch_idx* batch, len(train_y), \n",
    "                    100.*batch_idx * batch / len(train_y), loss.item(), \n",
    "                    float(correct*100) / float(batch*(batch_idx+1))))\n",
    "        \n",
    "        total_correct = 0\n",
    "        for batch_idx, batch_idy in loader:\n",
    "        \n",
    "            images, labels = Variable(batch_idx).float(), Variable(batch_idy)\n",
    "\n",
    "            output = model(images)\n",
    "\n",
    "    #         avg_loss += loss(output, labels).sum()\n",
    "            pred = np.argmax(output.data, axis = 1)\n",
    "            total_correct += np.equal(pred,labels.data).sum()\n",
    "        \n",
    "        print('Epoch : {}\\tLoss: {:.6f}\\t Accuracy:{:.3f}%'.format(\n",
    "                    epoch, loss.item(), float(correct*100) / len(train_x)))\n",
    "        print('Val Accuracy: %f' % (100*float(total_correct) / len(loader.dataset)))"
   ]
  },
  {
   "cell_type": "code",
   "execution_count": null,
   "metadata": {},
   "outputs": [],
   "source": []
  },
  {
   "cell_type": "code",
   "execution_count": 55,
   "metadata": {
    "scrolled": true
   },
   "outputs": [
    {
     "name": "stdout",
     "output_type": "stream",
     "text": [
      "Epoch : 0 [0/93600 (0%)]\tLoss: 0.000000\t Accuracy:100.000%\n",
      "Epoch : 0 [12800/93600 (14%)]\tLoss: 0.000000\t Accuracy:99.961%\n",
      "Epoch : 0 [25600/93600 (27%)]\tLoss: 0.000000\t Accuracy:99.957%\n",
      "Epoch : 0 [38400/93600 (41%)]\tLoss: 0.000000\t Accuracy:99.945%\n",
      "Epoch : 0 [51200/93600 (55%)]\tLoss: 0.000914\t Accuracy:99.957%\n",
      "Epoch : 0 [64000/93600 (68%)]\tLoss: 0.000001\t Accuracy:99.958%\n",
      "Epoch : 0 [76800/93600 (82%)]\tLoss: 0.000559\t Accuracy:99.958%\n",
      "Epoch : 0 [89600/93600 (96%)]\tLoss: 0.000000\t Accuracy:99.964%\n",
      "Epoch : 0\tLoss: 0.000000\t Accuracy:99.965%\n",
      "Val Accuracy: 99.916667\n",
      "Epoch : 1 [0/93600 (0%)]\tLoss: 0.001411\t Accuracy:100.000%\n",
      "Epoch : 1 [12800/93600 (14%)]\tLoss: 0.000000\t Accuracy:99.961%\n",
      "Epoch : 1 [25600/93600 (27%)]\tLoss: 0.000000\t Accuracy:99.957%\n",
      "Epoch : 1 [38400/93600 (41%)]\tLoss: 0.000000\t Accuracy:99.958%\n",
      "Epoch : 1 [51200/93600 (55%)]\tLoss: 0.000005\t Accuracy:99.961%\n",
      "Epoch : 1 [64000/93600 (68%)]\tLoss: 0.000000\t Accuracy:99.967%\n",
      "Epoch : 1 [76800/93600 (82%)]\tLoss: 0.000000\t Accuracy:99.969%\n",
      "Epoch : 1 [89600/93600 (96%)]\tLoss: 0.000001\t Accuracy:99.971%\n",
      "Epoch : 1\tLoss: 0.000000\t Accuracy:99.972%\n",
      "Val Accuracy: 99.952381\n",
      "Epoch : 2 [0/93600 (0%)]\tLoss: 0.000000\t Accuracy:100.000%\n",
      "Epoch : 2 [12800/93600 (14%)]\tLoss: 0.000000\t Accuracy:99.992%\n"
     ]
    },
    {
     "ename": "KeyboardInterrupt",
     "evalue": "",
     "output_type": "error",
     "traceback": [
      "\u001b[0;31m---------------------------------------------------------------------------\u001b[0m",
      "\u001b[0;31mKeyboardInterrupt\u001b[0m                         Traceback (most recent call last)",
      "\u001b[0;32m<ipython-input-55-e43781a42275>\u001b[0m in \u001b[0;36m<module>\u001b[0;34m\u001b[0m\n\u001b[1;32m      2\u001b[0m \u001b[0mEPOCHS\u001b[0m \u001b[0;34m=\u001b[0m \u001b[0;36m20\u001b[0m\u001b[0;34m\u001b[0m\u001b[0;34m\u001b[0m\u001b[0m\n\u001b[1;32m      3\u001b[0m \u001b[0merror\u001b[0m \u001b[0;34m=\u001b[0m \u001b[0mnn\u001b[0m\u001b[0;34m.\u001b[0m\u001b[0mCrossEntropyLoss\u001b[0m\u001b[0;34m(\u001b[0m\u001b[0;34m)\u001b[0m\u001b[0;34m\u001b[0m\u001b[0;34m\u001b[0m\u001b[0m\n\u001b[0;32m----> 4\u001b[0;31m \u001b[0mfit\u001b[0m\u001b[0;34m(\u001b[0m\u001b[0mmlp\u001b[0m\u001b[0;34m,\u001b[0m \u001b[0mX_train\u001b[0m\u001b[0;34m,\u001b[0m \u001b[0my_train\u001b[0m\u001b[0;34m,\u001b[0m \u001b[0mtest_loader\u001b[0m\u001b[0;34m,\u001b[0m \u001b[0moptimizer\u001b[0m\u001b[0;34m,\u001b[0m \u001b[0mEPOCHS\u001b[0m\u001b[0;34m,\u001b[0m \u001b[0merror\u001b[0m\u001b[0;34m,\u001b[0m \u001b[0;36m128\u001b[0m\u001b[0;34m)\u001b[0m\u001b[0;34m\u001b[0m\u001b[0;34m\u001b[0m\u001b[0m\n\u001b[0m",
      "\u001b[0;32m<ipython-input-28-abefb6a97db1>\u001b[0m in \u001b[0;36mfit\u001b[0;34m(model, train_x, train_y, loader, optimizer, EPOCH, error, batch)\u001b[0m\n\u001b[1;32m     22\u001b[0m             \u001b[0mvar_y_batch\u001b[0m \u001b[0;34m=\u001b[0m \u001b[0mVariable\u001b[0m\u001b[0;34m(\u001b[0m\u001b[0mtorch_y_train\u001b[0m\u001b[0;34m)\u001b[0m\u001b[0;34m\u001b[0m\u001b[0;34m\u001b[0m\u001b[0m\n\u001b[1;32m     23\u001b[0m             \u001b[0moptimizer\u001b[0m\u001b[0;34m.\u001b[0m\u001b[0mzero_grad\u001b[0m\u001b[0;34m(\u001b[0m\u001b[0;34m)\u001b[0m\u001b[0;34m\u001b[0m\u001b[0;34m\u001b[0m\u001b[0m\n\u001b[0;32m---> 24\u001b[0;31m             \u001b[0moutput\u001b[0m \u001b[0;34m=\u001b[0m \u001b[0mmodel\u001b[0m\u001b[0;34m(\u001b[0m\u001b[0mvar_X_batch\u001b[0m\u001b[0;34m)\u001b[0m\u001b[0;34m\u001b[0m\u001b[0;34m\u001b[0m\u001b[0m\n\u001b[0m\u001b[1;32m     25\u001b[0m             \u001b[0mloss\u001b[0m \u001b[0;34m=\u001b[0m \u001b[0merror\u001b[0m\u001b[0;34m(\u001b[0m\u001b[0moutput\u001b[0m\u001b[0;34m,\u001b[0m \u001b[0mvar_y_batch\u001b[0m\u001b[0;34m)\u001b[0m\u001b[0;34m\u001b[0m\u001b[0;34m\u001b[0m\u001b[0m\n\u001b[1;32m     26\u001b[0m \u001b[0;34m\u001b[0m\u001b[0m\n",
      "\u001b[0;32m~/anaconda3/lib/python3.7/site-packages/torch/nn/modules/module.py\u001b[0m in \u001b[0;36m__call__\u001b[0;34m(self, *input, **kwargs)\u001b[0m\n\u001b[1;32m    539\u001b[0m             \u001b[0mresult\u001b[0m \u001b[0;34m=\u001b[0m \u001b[0mself\u001b[0m\u001b[0;34m.\u001b[0m\u001b[0m_slow_forward\u001b[0m\u001b[0;34m(\u001b[0m\u001b[0;34m*\u001b[0m\u001b[0minput\u001b[0m\u001b[0;34m,\u001b[0m \u001b[0;34m**\u001b[0m\u001b[0mkwargs\u001b[0m\u001b[0;34m)\u001b[0m\u001b[0;34m\u001b[0m\u001b[0;34m\u001b[0m\u001b[0m\n\u001b[1;32m    540\u001b[0m         \u001b[0;32melse\u001b[0m\u001b[0;34m:\u001b[0m\u001b[0;34m\u001b[0m\u001b[0;34m\u001b[0m\u001b[0m\n\u001b[0;32m--> 541\u001b[0;31m             \u001b[0mresult\u001b[0m \u001b[0;34m=\u001b[0m \u001b[0mself\u001b[0m\u001b[0;34m.\u001b[0m\u001b[0mforward\u001b[0m\u001b[0;34m(\u001b[0m\u001b[0;34m*\u001b[0m\u001b[0minput\u001b[0m\u001b[0;34m,\u001b[0m \u001b[0;34m**\u001b[0m\u001b[0mkwargs\u001b[0m\u001b[0;34m)\u001b[0m\u001b[0;34m\u001b[0m\u001b[0;34m\u001b[0m\u001b[0m\n\u001b[0m\u001b[1;32m    542\u001b[0m         \u001b[0;32mfor\u001b[0m \u001b[0mhook\u001b[0m \u001b[0;32min\u001b[0m \u001b[0mself\u001b[0m\u001b[0;34m.\u001b[0m\u001b[0m_forward_hooks\u001b[0m\u001b[0;34m.\u001b[0m\u001b[0mvalues\u001b[0m\u001b[0;34m(\u001b[0m\u001b[0;34m)\u001b[0m\u001b[0;34m:\u001b[0m\u001b[0;34m\u001b[0m\u001b[0;34m\u001b[0m\u001b[0m\n\u001b[1;32m    543\u001b[0m             \u001b[0mhook_result\u001b[0m \u001b[0;34m=\u001b[0m \u001b[0mhook\u001b[0m\u001b[0;34m(\u001b[0m\u001b[0mself\u001b[0m\u001b[0;34m,\u001b[0m \u001b[0minput\u001b[0m\u001b[0;34m,\u001b[0m \u001b[0mresult\u001b[0m\u001b[0;34m)\u001b[0m\u001b[0;34m\u001b[0m\u001b[0;34m\u001b[0m\u001b[0m\n",
      "\u001b[0;32m<ipython-input-11-cf14aba8350c>\u001b[0m in \u001b[0;36mforward\u001b[0;34m(self, x)\u001b[0m\n\u001b[1;32m     37\u001b[0m     \u001b[0;32mdef\u001b[0m \u001b[0mforward\u001b[0m\u001b[0;34m(\u001b[0m\u001b[0mself\u001b[0m\u001b[0;34m,\u001b[0m \u001b[0mx\u001b[0m\u001b[0;34m)\u001b[0m\u001b[0;34m:\u001b[0m\u001b[0;34m\u001b[0m\u001b[0;34m\u001b[0m\u001b[0m\n\u001b[1;32m     38\u001b[0m         \u001b[0mx\u001b[0m \u001b[0;34m=\u001b[0m \u001b[0mF\u001b[0m\u001b[0;34m.\u001b[0m\u001b[0mrelu\u001b[0m\u001b[0;34m(\u001b[0m\u001b[0mself\u001b[0m\u001b[0;34m.\u001b[0m\u001b[0mconv1\u001b[0m\u001b[0;34m(\u001b[0m\u001b[0mx\u001b[0m\u001b[0;34m)\u001b[0m\u001b[0;34m)\u001b[0m\u001b[0;34m\u001b[0m\u001b[0;34m\u001b[0m\u001b[0m\n\u001b[0;32m---> 39\u001b[0;31m         \u001b[0mx\u001b[0m \u001b[0;34m=\u001b[0m \u001b[0mself\u001b[0m\u001b[0;34m.\u001b[0m\u001b[0mbatch1\u001b[0m\u001b[0;34m(\u001b[0m\u001b[0mx\u001b[0m\u001b[0;34m)\u001b[0m\u001b[0;34m\u001b[0m\u001b[0;34m\u001b[0m\u001b[0m\n\u001b[0m\u001b[1;32m     40\u001b[0m         \u001b[0mx\u001b[0m \u001b[0;34m=\u001b[0m \u001b[0mF\u001b[0m\u001b[0;34m.\u001b[0m\u001b[0mrelu\u001b[0m\u001b[0;34m(\u001b[0m\u001b[0mself\u001b[0m\u001b[0;34m.\u001b[0m\u001b[0mconv2\u001b[0m\u001b[0;34m(\u001b[0m\u001b[0mx\u001b[0m\u001b[0;34m)\u001b[0m\u001b[0;34m,\u001b[0m \u001b[0;36m2\u001b[0m\u001b[0;34m)\u001b[0m\u001b[0;34m\u001b[0m\u001b[0;34m\u001b[0m\u001b[0m\n\u001b[1;32m     41\u001b[0m         \u001b[0mx\u001b[0m \u001b[0;34m=\u001b[0m \u001b[0mself\u001b[0m\u001b[0;34m.\u001b[0m\u001b[0mbatch2\u001b[0m\u001b[0;34m(\u001b[0m\u001b[0mx\u001b[0m\u001b[0;34m)\u001b[0m\u001b[0;34m\u001b[0m\u001b[0;34m\u001b[0m\u001b[0m\n",
      "\u001b[0;32m~/anaconda3/lib/python3.7/site-packages/torch/nn/modules/module.py\u001b[0m in \u001b[0;36m__call__\u001b[0;34m(self, *input, **kwargs)\u001b[0m\n\u001b[1;32m    539\u001b[0m             \u001b[0mresult\u001b[0m \u001b[0;34m=\u001b[0m \u001b[0mself\u001b[0m\u001b[0;34m.\u001b[0m\u001b[0m_slow_forward\u001b[0m\u001b[0;34m(\u001b[0m\u001b[0;34m*\u001b[0m\u001b[0minput\u001b[0m\u001b[0;34m,\u001b[0m \u001b[0;34m**\u001b[0m\u001b[0mkwargs\u001b[0m\u001b[0;34m)\u001b[0m\u001b[0;34m\u001b[0m\u001b[0;34m\u001b[0m\u001b[0m\n\u001b[1;32m    540\u001b[0m         \u001b[0;32melse\u001b[0m\u001b[0;34m:\u001b[0m\u001b[0;34m\u001b[0m\u001b[0;34m\u001b[0m\u001b[0m\n\u001b[0;32m--> 541\u001b[0;31m             \u001b[0mresult\u001b[0m \u001b[0;34m=\u001b[0m \u001b[0mself\u001b[0m\u001b[0;34m.\u001b[0m\u001b[0mforward\u001b[0m\u001b[0;34m(\u001b[0m\u001b[0;34m*\u001b[0m\u001b[0minput\u001b[0m\u001b[0;34m,\u001b[0m \u001b[0;34m**\u001b[0m\u001b[0mkwargs\u001b[0m\u001b[0;34m)\u001b[0m\u001b[0;34m\u001b[0m\u001b[0;34m\u001b[0m\u001b[0m\n\u001b[0m\u001b[1;32m    542\u001b[0m         \u001b[0;32mfor\u001b[0m \u001b[0mhook\u001b[0m \u001b[0;32min\u001b[0m \u001b[0mself\u001b[0m\u001b[0;34m.\u001b[0m\u001b[0m_forward_hooks\u001b[0m\u001b[0;34m.\u001b[0m\u001b[0mvalues\u001b[0m\u001b[0;34m(\u001b[0m\u001b[0;34m)\u001b[0m\u001b[0;34m:\u001b[0m\u001b[0;34m\u001b[0m\u001b[0;34m\u001b[0m\u001b[0m\n\u001b[1;32m    543\u001b[0m             \u001b[0mhook_result\u001b[0m \u001b[0;34m=\u001b[0m \u001b[0mhook\u001b[0m\u001b[0;34m(\u001b[0m\u001b[0mself\u001b[0m\u001b[0;34m,\u001b[0m \u001b[0minput\u001b[0m\u001b[0;34m,\u001b[0m \u001b[0mresult\u001b[0m\u001b[0;34m)\u001b[0m\u001b[0;34m\u001b[0m\u001b[0;34m\u001b[0m\u001b[0m\n",
      "\u001b[0;32m~/anaconda3/lib/python3.7/site-packages/torch/nn/modules/batchnorm.py\u001b[0m in \u001b[0;36mforward\u001b[0;34m(self, input)\u001b[0m\n\u001b[1;32m     79\u001b[0m             \u001b[0minput\u001b[0m\u001b[0;34m,\u001b[0m \u001b[0mself\u001b[0m\u001b[0;34m.\u001b[0m\u001b[0mrunning_mean\u001b[0m\u001b[0;34m,\u001b[0m \u001b[0mself\u001b[0m\u001b[0;34m.\u001b[0m\u001b[0mrunning_var\u001b[0m\u001b[0;34m,\u001b[0m \u001b[0mself\u001b[0m\u001b[0;34m.\u001b[0m\u001b[0mweight\u001b[0m\u001b[0;34m,\u001b[0m \u001b[0mself\u001b[0m\u001b[0;34m.\u001b[0m\u001b[0mbias\u001b[0m\u001b[0;34m,\u001b[0m\u001b[0;34m\u001b[0m\u001b[0;34m\u001b[0m\u001b[0m\n\u001b[1;32m     80\u001b[0m             \u001b[0mself\u001b[0m\u001b[0;34m.\u001b[0m\u001b[0mtraining\u001b[0m \u001b[0;32mor\u001b[0m \u001b[0;32mnot\u001b[0m \u001b[0mself\u001b[0m\u001b[0;34m.\u001b[0m\u001b[0mtrack_running_stats\u001b[0m\u001b[0;34m,\u001b[0m\u001b[0;34m\u001b[0m\u001b[0;34m\u001b[0m\u001b[0m\n\u001b[0;32m---> 81\u001b[0;31m             exponential_average_factor, self.eps)\n\u001b[0m\u001b[1;32m     82\u001b[0m \u001b[0;34m\u001b[0m\u001b[0m\n\u001b[1;32m     83\u001b[0m     \u001b[0;32mdef\u001b[0m \u001b[0mextra_repr\u001b[0m\u001b[0;34m(\u001b[0m\u001b[0mself\u001b[0m\u001b[0;34m)\u001b[0m\u001b[0;34m:\u001b[0m\u001b[0;34m\u001b[0m\u001b[0;34m\u001b[0m\u001b[0m\n",
      "\u001b[0;32m~/anaconda3/lib/python3.7/site-packages/torch/nn/functional.py\u001b[0m in \u001b[0;36mbatch_norm\u001b[0;34m(input, running_mean, running_var, weight, bias, training, momentum, eps)\u001b[0m\n\u001b[1;32m   1668\u001b[0m     return torch.batch_norm(\n\u001b[1;32m   1669\u001b[0m         \u001b[0minput\u001b[0m\u001b[0;34m,\u001b[0m \u001b[0mweight\u001b[0m\u001b[0;34m,\u001b[0m \u001b[0mbias\u001b[0m\u001b[0;34m,\u001b[0m \u001b[0mrunning_mean\u001b[0m\u001b[0;34m,\u001b[0m \u001b[0mrunning_var\u001b[0m\u001b[0;34m,\u001b[0m\u001b[0;34m\u001b[0m\u001b[0;34m\u001b[0m\u001b[0m\n\u001b[0;32m-> 1670\u001b[0;31m         \u001b[0mtraining\u001b[0m\u001b[0;34m,\u001b[0m \u001b[0mmomentum\u001b[0m\u001b[0;34m,\u001b[0m \u001b[0meps\u001b[0m\u001b[0;34m,\u001b[0m \u001b[0mtorch\u001b[0m\u001b[0;34m.\u001b[0m\u001b[0mbackends\u001b[0m\u001b[0;34m.\u001b[0m\u001b[0mcudnn\u001b[0m\u001b[0;34m.\u001b[0m\u001b[0menabled\u001b[0m\u001b[0;34m\u001b[0m\u001b[0;34m\u001b[0m\u001b[0m\n\u001b[0m\u001b[1;32m   1671\u001b[0m     )\n\u001b[1;32m   1672\u001b[0m \u001b[0;34m\u001b[0m\u001b[0m\n",
      "\u001b[0;31mKeyboardInterrupt\u001b[0m: "
     ]
    }
   ],
   "source": [
    "optimizer = torch.optim.RMSprop(mlp.parameters(), lr = 0.0005)\n",
    "EPOCHS = 20\n",
    "error = nn.CrossEntropyLoss()\n",
    "fit(mlp, X_train, y_train, test_loader, optimizer, EPOCHS, error, 128)"
   ]
  },
  {
   "cell_type": "code",
   "execution_count": 46,
   "metadata": {},
   "outputs": [],
   "source": [
    "torch.save(mlp.state_dict(), 'model_mnist_1.pth')"
   ]
  },
  {
   "cell_type": "code",
   "execution_count": 33,
   "metadata": {},
   "outputs": [],
   "source": [
    "def test(model, loader, batch, loss):\n",
    "    model.eval()\n",
    "    total_correct = 0\n",
    "    avg_loss = 0.0\n",
    "    return_val = []\n",
    "\n",
    "    for batch_idx, batch_idy in loader:\n",
    "        \n",
    "        images, labels = Variable(batch_idx).float(), Variable(batch_idy)\n",
    "\n",
    "        output = model(images)\n",
    "\n",
    "#         avg_loss += loss(output, labels).sum()\n",
    "        pred = np.argmax(output.data, axis = 1)\n",
    "        total_correct += np.equal(pred,labels.data).sum()\n",
    "        for i in range(len(pred)):\n",
    "            if pred[i] != labels[i]:\n",
    "                return_val.append([images[i], output[i], labels[i]])\n",
    "\n",
    "#     avg_loss /= len(loader.dataset)\n",
    "#     print('Test Avg. Loss: %f, Accuracy: %f' % (avg_loss.detach().cpu().item(),\n",
    "    print('Test Avg. Loss: %f, Accuracy: %f' % (0, 100*float(total_correct) / len(loader.dataset)))\n",
    "    return return_val"
   ]
  },
  {
   "cell_type": "code",
   "execution_count": 34,
   "metadata": {},
   "outputs": [
    {
     "name": "stdout",
     "output_type": "stream",
     "text": [
      "Test Avg. Loss: 0.000000, Accuracy: 99.928571\n"
     ]
    }
   ],
   "source": [
    "loss = nn.CrossEntropyLoss()\n",
    "\n",
    "rez = test(mlp, test_loader, 128, loss)"
   ]
  },
  {
   "cell_type": "code",
   "execution_count": 35,
   "metadata": {},
   "outputs": [],
   "source": [
    "torch.save(mlp.state_dict(), 'model.pth')"
   ]
  },
  {
   "cell_type": "code",
   "execution_count": 12,
   "metadata": {},
   "outputs": [
    {
     "data": {
      "text/plain": [
       "Lenet(\n",
       "  (conv1): Conv2d(1, 16, kernel_size=(5, 5), stride=(1, 1), padding=(2, 2))\n",
       "  (conv2): Conv2d(16, 32, kernel_size=(5, 5), stride=(1, 1))\n",
       "  (conv3): Conv2d(32, 32, kernel_size=(5, 5), stride=(1, 1), padding=(2, 2))\n",
       "  (conv4): Conv2d(32, 32, kernel_size=(5, 5), stride=(1, 1))\n",
       "  (conv5): Conv2d(32, 64, kernel_size=(5, 5), stride=(1, 1))\n",
       "  (fc1): Linear(in_features=1024, out_features=256, bias=True)\n",
       "  (fc2): Linear(in_features=256, out_features=10, bias=True)\n",
       ")"
      ]
     },
     "execution_count": 12,
     "metadata": {},
     "output_type": "execute_result"
    }
   ],
   "source": [
    "model_lenet = Lenet()\n",
    "model_lenet.load_state_dict(torch.load('model_Lenet.pth'))\n",
    "model_lenet.eval()"
   ]
  },
  {
   "cell_type": "code",
   "execution_count": 12,
   "metadata": {},
   "outputs": [
    {
     "data": {
      "text/plain": [
       "<All keys matched successfully>"
      ]
     },
     "execution_count": 12,
     "metadata": {},
     "output_type": "execute_result"
    }
   ],
   "source": [
    "model_alex = Alexnet()\n",
    "model_alex.load_state_dict(torch.load('model_mnist_1.pth'))\n",
    "# model_alex.eval()"
   ]
  },
  {
   "cell_type": "code",
   "execution_count": 42,
   "metadata": {},
   "outputs": [
    {
     "data": {
      "text/plain": [
       "Onenet(\n",
       "  (conv1): Conv2d(1, 8, kernel_size=(3, 3), stride=(1, 1), padding=(2, 2))\n",
       "  (conv2): Conv2d(8, 8, kernel_size=(3, 3), stride=(1, 1))\n",
       "  (conv3): Conv2d(8, 16, kernel_size=(3, 3), stride=(1, 1), padding=(2, 2))\n",
       "  (conv4): Conv2d(16, 16, kernel_size=(3, 3), stride=(1, 1))\n",
       "  (conv5): Conv2d(16, 32, kernel_size=(3, 3), stride=(1, 1))\n",
       "  (conv6): Conv2d(32, 32, kernel_size=(3, 3), stride=(1, 1))\n",
       "  (fc1): Linear(in_features=288, out_features=64, bias=True)\n",
       "  (fc2): Linear(in_features=64, out_features=10, bias=True)\n",
       ")"
      ]
     },
     "execution_count": 42,
     "metadata": {},
     "output_type": "execute_result"
    }
   ],
   "source": [
    "model_one = Onenet()\n",
    "model_one.load_state_dict(torch.load('model_Onenet.pth'))\n",
    "model_one.eval()"
   ]
  },
  {
   "cell_type": "code",
   "execution_count": 46,
   "metadata": {},
   "outputs": [
    {
     "name": "stdout",
     "output_type": "stream",
     "text": [
      "Test Avg. Loss: 0.001833, Accuracy: 98.333333\n"
     ]
    }
   ],
   "source": [
    "test(model_lenet, X_test, y_test, 32)"
   ]
  },
  {
   "cell_type": "code",
   "execution_count": 13,
   "metadata": {},
   "outputs": [
    {
     "name": "stdout",
     "output_type": "stream",
     "text": [
      "Test Avg. Loss: 0.000000, Accuracy: 99.821429\n"
     ]
    }
   ],
   "source": [
    "loss = nn.CrossEntropyLoss()\n",
    "rez = test(model_alex, test_loader, 128, loss)"
   ]
  },
  {
   "cell_type": "code",
   "execution_count": 48,
   "metadata": {},
   "outputs": [
    {
     "name": "stdout",
     "output_type": "stream",
     "text": [
      "Test Avg. Loss: 0.002706, Accuracy: 97.452381\n"
     ]
    }
   ],
   "source": [
    "test(model_one, X_test, y_test, 32)"
   ]
  },
  {
   "cell_type": "code",
   "execution_count": null,
   "metadata": {},
   "outputs": [],
   "source": []
  },
  {
   "cell_type": "code",
   "execution_count": 9,
   "metadata": {},
   "outputs": [],
   "source": [
    "def binY(y):\n",
    "    bin_y = []\n",
    "    for i in range(len(y)):\n",
    "        if y[i] in [6,8,9,0]:\n",
    "            bin_y.append(1)\n",
    "        else:\n",
    "            bin_y.append(0)\n",
    "    return bin_y"
   ]
  },
  {
   "cell_type": "code",
   "execution_count": 10,
   "metadata": {},
   "outputs": [],
   "source": [
    "bin_y_train = binY(y_train)\n",
    "bin_y_test = binY(y_test)"
   ]
  },
  {
   "cell_type": "code",
   "execution_count": 12,
   "metadata": {},
   "outputs": [
    {
     "data": {
      "text/plain": [
       "Alexnet(\n",
       "  (conv1): Conv2d(1, 8, kernel_size=(7, 7), stride=(1, 1), padding=(2, 2))\n",
       "  (conv2): Conv2d(8, 8, kernel_size=(5, 5), stride=(1, 1))\n",
       "  (conv3): Conv2d(8, 16, kernel_size=(11, 11), stride=(1, 1), padding=(2, 2))\n",
       "  (conv4): Conv2d(16, 16, kernel_size=(5, 5), stride=(1, 1))\n",
       "  (conv5): Conv2d(16, 32, kernel_size=(7, 7), stride=(1, 1))\n",
       "  (conv6): Conv2d(32, 32, kernel_size=(3, 3), stride=(1, 1))\n",
       "  (fc1): Linear(in_features=512, out_features=256, bias=True)\n",
       "  (fc2): Linear(in_features=256, out_features=2, bias=True)\n",
       ")"
      ]
     },
     "execution_count": 12,
     "metadata": {},
     "output_type": "execute_result"
    }
   ],
   "source": [
    "model_alex.fc2 = nn.Linear(model_alex.fc2.in_features, 2)\n",
    "model_alex.eval()"
   ]
  },
  {
   "cell_type": "code",
   "execution_count": 13,
   "metadata": {},
   "outputs": [
    {
     "name": "stdout",
     "output_type": "stream",
     "text": [
      "Epoch : 0 [0/33600 (0%)]\tLoss: 0.792921\t Accuracy:68.750%\n",
      "Epoch : 0 [6400/33600 (19%)]\tLoss: 0.196806\t Accuracy:97.138%\n",
      "Epoch : 0 [12800/33600 (38%)]\tLoss: 0.025030\t Accuracy:97.551%\n",
      "Epoch : 0 [19200/33600 (57%)]\tLoss: 0.014867\t Accuracy:97.726%\n",
      "Epoch : 0 [25600/33600 (76%)]\tLoss: 0.033682\t Accuracy:97.880%\n",
      "Epoch : 0 [32000/33600 (95%)]\tLoss: 0.016022\t Accuracy:97.973%\n",
      "Epoch : 1 [0/33600 (0%)]\tLoss: 0.046514\t Accuracy:98.438%\n",
      "Epoch : 1 [6400/33600 (19%)]\tLoss: 0.002256\t Accuracy:98.546%\n",
      "Epoch : 1 [12800/33600 (38%)]\tLoss: 0.025307\t Accuracy:98.640%\n",
      "Epoch : 1 [19200/33600 (57%)]\tLoss: 0.113523\t Accuracy:98.630%\n",
      "Epoch : 1 [25600/33600 (76%)]\tLoss: 0.010071\t Accuracy:98.625%\n",
      "Epoch : 1 [32000/33600 (95%)]\tLoss: 0.023583\t Accuracy:98.609%\n",
      "Epoch : 2 [0/33600 (0%)]\tLoss: 0.044859\t Accuracy:98.438%\n",
      "Epoch : 2 [6400/33600 (19%)]\tLoss: 0.210517\t Accuracy:98.700%\n",
      "Epoch : 2 [12800/33600 (38%)]\tLoss: 0.028269\t Accuracy:98.686%\n",
      "Epoch : 2 [19200/33600 (57%)]\tLoss: 0.009920\t Accuracy:98.749%\n",
      "Epoch : 2 [25600/33600 (76%)]\tLoss: 0.226666\t Accuracy:98.714%\n",
      "Epoch : 2 [32000/33600 (95%)]\tLoss: 0.013538\t Accuracy:98.625%\n",
      "Epoch : 3 [0/33600 (0%)]\tLoss: 0.061007\t Accuracy:98.438%\n",
      "Epoch : 3 [6400/33600 (19%)]\tLoss: 0.034635\t Accuracy:99.211%\n",
      "Epoch : 3 [12800/33600 (38%)]\tLoss: 0.005253\t Accuracy:98.927%\n",
      "Epoch : 3 [19200/33600 (57%)]\tLoss: 0.041612\t Accuracy:98.884%\n",
      "Epoch : 3 [25600/33600 (76%)]\tLoss: 0.019565\t Accuracy:98.874%\n",
      "Epoch : 3 [32000/33600 (95%)]\tLoss: 0.004240\t Accuracy:98.924%\n"
     ]
    }
   ],
   "source": [
    "fit(model_alex, X_train, bin_y_train, \n",
    "    torch.optim.Adam(model_alex.parameters()), 4, nn.CrossEntropyLoss(), 64)"
   ]
  },
  {
   "cell_type": "code",
   "execution_count": 14,
   "metadata": {},
   "outputs": [
    {
     "name": "stdout",
     "output_type": "stream",
     "text": [
      "Test Avg. Loss: 0.000920, Accuracy: 99.000000\n"
     ]
    }
   ],
   "source": [
    "test(model_alex, X_test, bin_y_test, 32)"
   ]
  },
  {
   "cell_type": "code",
   "execution_count": 16,
   "metadata": {},
   "outputs": [
    {
     "name": "stdout",
     "output_type": "stream",
     "text": [
      "tensor([-20.7161, -22.4427,  -3.3204,  -0.0368, -26.0792, -19.5438, -22.1716,\n",
      "        -18.1222, -14.5234, -23.1436], grad_fn=<SelectBackward>)\n",
      "tensor(2)\n"
     ]
    },
    {
     "data": {
      "image/png": "[encoded data removed]",
      "text/plain": [
       "<Figure size 432x288 with 1 Axes>"
      ]
     },
     "metadata": {
      "needs_background": "light"
     },
     "output_type": "display_data"
    }
   ],
   "source": [
    "for i in range(4,len(rez)):\n",
    "    \n",
    "    plt.spy(np.reshape(rez[i][0], (28,28)))\n",
    "    print(rez[i][1])\n",
    "    print(rez[i][2])\n",
    "    break"
   ]
  },
  {
   "cell_type": "code",
   "execution_count": 58,
   "metadata": {},
   "outputs": [
    {
     "ename": "ValueError",
     "evalue": "only one element tensors can be converted to Python scalars",
     "output_type": "error",
     "traceback": [
      "\u001b[0;31m---------------------------------------------------------------------------\u001b[0m",
      "\u001b[0;31mValueError\u001b[0m                                Traceback (most recent call last)",
      "\u001b[0;32m<ipython-input-58-adffed3d5fed>\u001b[0m in \u001b[0;36m<module>\u001b[0;34m\u001b[0m\n\u001b[0;32m----> 1\u001b[0;31m \u001b[0mret\u001b[0m \u001b[0;34m=\u001b[0m \u001b[0mtorch\u001b[0m\u001b[0;34m.\u001b[0m\u001b[0mfrom_numpy\u001b[0m\u001b[0;34m(\u001b[0m\u001b[0mnp\u001b[0m\u001b[0;34m.\u001b[0m\u001b[0marray\u001b[0m\u001b[0;34m(\u001b[0m\u001b[0mret\u001b[0m\u001b[0;34m)\u001b[0m\u001b[0;34m)\u001b[0m\u001b[0;34m\u001b[0m\u001b[0;34m\u001b[0m\u001b[0m\n\u001b[0m",
      "\u001b[0;31mValueError\u001b[0m: only one element tensors can be converted to Python scalars"
     ]
    }
   ],
   "source": [
    "ret = torch.from_numpy(np.array(ret)).type(torch.LongTensor)"
   ]
  },
  {
   "cell_type": "code",
   "execution_count": null,
   "metadata": {},
   "outputs": [],
   "source": []
  },
  {
   "cell_type": "code",
   "execution_count": 47,
   "metadata": {},
   "outputs": [
    {
     "data": {
      "text/html": [
       "<div>\n",
       "<style scoped>\n",
       "    .dataframe tbody tr th:only-of-type {\n",
       "        vertical-align: middle;\n",
       "    }\n",
       "\n",
       "    .dataframe tbody tr th {\n",
       "        vertical-align: top;\n",
       "    }\n",
       "\n",
       "    .dataframe thead th {\n",
       "        text-align: right;\n",
       "    }\n",
       "</style>\n",
       "<table border=\"1\" class=\"dataframe\">\n",
       "  <thead>\n",
       "    <tr style=\"text-align: right;\">\n",
       "      <th></th>\n",
       "      <th>pixel0</th>\n",
       "      <th>pixel1</th>\n",
       "      <th>pixel2</th>\n",
       "      <th>pixel3</th>\n",
       "      <th>pixel4</th>\n",
       "      <th>pixel5</th>\n",
       "      <th>pixel6</th>\n",
       "      <th>pixel7</th>\n",
       "      <th>pixel8</th>\n",
       "      <th>pixel9</th>\n",
       "      <th>...</th>\n",
       "      <th>pixel774</th>\n",
       "      <th>pixel775</th>\n",
       "      <th>pixel776</th>\n",
       "      <th>pixel777</th>\n",
       "      <th>pixel778</th>\n",
       "      <th>pixel779</th>\n",
       "      <th>pixel780</th>\n",
       "      <th>pixel781</th>\n",
       "      <th>pixel782</th>\n",
       "      <th>pixel783</th>\n",
       "    </tr>\n",
       "  </thead>\n",
       "  <tbody>\n",
       "    <tr>\n",
       "      <th>0</th>\n",
       "      <td>0</td>\n",
       "      <td>0</td>\n",
       "      <td>0</td>\n",
       "      <td>0</td>\n",
       "      <td>0</td>\n",
       "      <td>0</td>\n",
       "      <td>0</td>\n",
       "      <td>0</td>\n",
       "      <td>0</td>\n",
       "      <td>0</td>\n",
       "      <td>...</td>\n",
       "      <td>0</td>\n",
       "      <td>0</td>\n",
       "      <td>0</td>\n",
       "      <td>0</td>\n",
       "      <td>0</td>\n",
       "      <td>0</td>\n",
       "      <td>0</td>\n",
       "      <td>0</td>\n",
       "      <td>0</td>\n",
       "      <td>0</td>\n",
       "    </tr>\n",
       "    <tr>\n",
       "      <th>1</th>\n",
       "      <td>0</td>\n",
       "      <td>0</td>\n",
       "      <td>0</td>\n",
       "      <td>0</td>\n",
       "      <td>0</td>\n",
       "      <td>0</td>\n",
       "      <td>0</td>\n",
       "      <td>0</td>\n",
       "      <td>0</td>\n",
       "      <td>0</td>\n",
       "      <td>...</td>\n",
       "      <td>0</td>\n",
       "      <td>0</td>\n",
       "      <td>0</td>\n",
       "      <td>0</td>\n",
       "      <td>0</td>\n",
       "      <td>0</td>\n",
       "      <td>0</td>\n",
       "      <td>0</td>\n",
       "      <td>0</td>\n",
       "      <td>0</td>\n",
       "    </tr>\n",
       "    <tr>\n",
       "      <th>2</th>\n",
       "      <td>0</td>\n",
       "      <td>0</td>\n",
       "      <td>0</td>\n",
       "      <td>0</td>\n",
       "      <td>0</td>\n",
       "      <td>0</td>\n",
       "      <td>0</td>\n",
       "      <td>0</td>\n",
       "      <td>0</td>\n",
       "      <td>0</td>\n",
       "      <td>...</td>\n",
       "      <td>0</td>\n",
       "      <td>0</td>\n",
       "      <td>0</td>\n",
       "      <td>0</td>\n",
       "      <td>0</td>\n",
       "      <td>0</td>\n",
       "      <td>0</td>\n",
       "      <td>0</td>\n",
       "      <td>0</td>\n",
       "      <td>0</td>\n",
       "    </tr>\n",
       "    <tr>\n",
       "      <th>3</th>\n",
       "      <td>0</td>\n",
       "      <td>0</td>\n",
       "      <td>0</td>\n",
       "      <td>0</td>\n",
       "      <td>0</td>\n",
       "      <td>0</td>\n",
       "      <td>0</td>\n",
       "      <td>0</td>\n",
       "      <td>0</td>\n",
       "      <td>0</td>\n",
       "      <td>...</td>\n",
       "      <td>0</td>\n",
       "      <td>0</td>\n",
       "      <td>0</td>\n",
       "      <td>0</td>\n",
       "      <td>0</td>\n",
       "      <td>0</td>\n",
       "      <td>0</td>\n",
       "      <td>0</td>\n",
       "      <td>0</td>\n",
       "      <td>0</td>\n",
       "    </tr>\n",
       "    <tr>\n",
       "      <th>4</th>\n",
       "      <td>0</td>\n",
       "      <td>0</td>\n",
       "      <td>0</td>\n",
       "      <td>0</td>\n",
       "      <td>0</td>\n",
       "      <td>0</td>\n",
       "      <td>0</td>\n",
       "      <td>0</td>\n",
       "      <td>0</td>\n",
       "      <td>0</td>\n",
       "      <td>...</td>\n",
       "      <td>0</td>\n",
       "      <td>0</td>\n",
       "      <td>0</td>\n",
       "      <td>0</td>\n",
       "      <td>0</td>\n",
       "      <td>0</td>\n",
       "      <td>0</td>\n",
       "      <td>0</td>\n",
       "      <td>0</td>\n",
       "      <td>0</td>\n",
       "    </tr>\n",
       "  </tbody>\n",
       "</table>\n",
       "<p>5 rows × 784 columns</p>\n",
       "</div>"
      ],
      "text/plain": [
       "   pixel0  pixel1  pixel2  pixel3  pixel4  pixel5  pixel6  pixel7  pixel8  \\\n",
       "0       0       0       0       0       0       0       0       0       0   \n",
       "1       0       0       0       0       0       0       0       0       0   \n",
       "2       0       0       0       0       0       0       0       0       0   \n",
       "3       0       0       0       0       0       0       0       0       0   \n",
       "4       0       0       0       0       0       0       0       0       0   \n",
       "\n",
       "   pixel9  ...  pixel774  pixel775  pixel776  pixel777  pixel778  pixel779  \\\n",
       "0       0  ...         0         0         0         0         0         0   \n",
       "1       0  ...         0         0         0         0         0         0   \n",
       "2       0  ...         0         0         0         0         0         0   \n",
       "3       0  ...         0         0         0         0         0         0   \n",
       "4       0  ...         0         0         0         0         0         0   \n",
       "\n",
       "   pixel780  pixel781  pixel782  pixel783  \n",
       "0         0         0         0         0  \n",
       "1         0         0         0         0  \n",
       "2         0         0         0         0  \n",
       "3         0         0         0         0  \n",
       "4         0         0         0         0  \n",
       "\n",
       "[5 rows x 784 columns]"
      ]
     },
     "execution_count": 47,
     "metadata": {},
     "output_type": "execute_result"
    }
   ],
   "source": [
    "test = pd.read_csv('test.csv')\n",
    "test.head()"
   ]
  },
  {
   "cell_type": "code",
   "execution_count": 48,
   "metadata": {},
   "outputs": [
    {
     "name": "stdout",
     "output_type": "stream",
     "text": [
      "(28000, 784)\n"
     ]
    }
   ],
   "source": [
    "test = np.array(test)\n",
    "print(test.shape)"
   ]
  },
  {
   "cell_type": "code",
   "execution_count": 56,
   "metadata": {},
   "outputs": [],
   "source": [
    "model_alex = mlp"
   ]
  },
  {
   "cell_type": "code",
   "execution_count": 57,
   "metadata": {},
   "outputs": [],
   "source": [
    "model_alex.eval()\n",
    "result = []\n",
    "for i in test:\n",
    "    image = np.reshape(i, (1, 1, 28,28))\n",
    "    image = torch.from_numpy(image).type(torch.LongTensor)\n",
    "    image = Variable(image).float()\n",
    "    output = model_alex(image)\n",
    "    result.append(int(np.argmax(output.data, axis = 1)))"
   ]
  },
  {
   "cell_type": "code",
   "execution_count": 60,
   "metadata": {},
   "outputs": [],
   "source": [
    "wer = pd.DataFrame(np.concatenate((range_x, result), axis = 1), columns = ['ImageId', 'Label'])\n",
    "wer.to_csv('new_test_1.csv', index = False)"
   ]
  },
  {
   "cell_type": "code",
   "execution_count": 58,
   "metadata": {},
   "outputs": [],
   "source": [
    "range_x = np.reshape(np.array(range(1, len(result) +1)), (len(result), 1))"
   ]
  },
  {
   "cell_type": "code",
   "execution_count": 59,
   "metadata": {},
   "outputs": [],
   "source": [
    "result = np.reshape(np.array(result), (len(result), 1))\n"
   ]
  },
  {
   "cell_type": "code",
   "execution_count": 45,
   "metadata": {},
   "outputs": [
    {
     "data": {
      "text/html": [
       "<div>\n",
       "<style scoped>\n",
       "    .dataframe tbody tr th:only-of-type {\n",
       "        vertical-align: middle;\n",
       "    }\n",
       "\n",
       "    .dataframe tbody tr th {\n",
       "        vertical-align: top;\n",
       "    }\n",
       "\n",
       "    .dataframe thead th {\n",
       "        text-align: right;\n",
       "    }\n",
       "</style>\n",
       "<table border=\"1\" class=\"dataframe\">\n",
       "  <thead>\n",
       "    <tr style=\"text-align: right;\">\n",
       "      <th></th>\n",
       "      <th>ImageId</th>\n",
       "      <th>Label</th>\n",
       "    </tr>\n",
       "  </thead>\n",
       "  <tbody>\n",
       "    <tr>\n",
       "      <th>0</th>\n",
       "      <td>1</td>\n",
       "      <td>2</td>\n",
       "    </tr>\n",
       "    <tr>\n",
       "      <th>1</th>\n",
       "      <td>2</td>\n",
       "      <td>0</td>\n",
       "    </tr>\n",
       "    <tr>\n",
       "      <th>2</th>\n",
       "      <td>3</td>\n",
       "      <td>9</td>\n",
       "    </tr>\n",
       "    <tr>\n",
       "      <th>3</th>\n",
       "      <td>4</td>\n",
       "      <td>0</td>\n",
       "    </tr>\n",
       "    <tr>\n",
       "      <th>4</th>\n",
       "      <td>5</td>\n",
       "      <td>3</td>\n",
       "    </tr>\n",
       "  </tbody>\n",
       "</table>\n",
       "</div>"
      ],
      "text/plain": [
       "   ImageId  Label\n",
       "0        1      2\n",
       "1        2      0\n",
       "2        3      9\n",
       "3        4      0\n",
       "4        5      3"
      ]
     },
     "execution_count": 45,
     "metadata": {},
     "output_type": "execute_result"
    }
   ],
   "source": [
    "wer.head()\n",
    "pd.io.formats."
   ]
  },
  {
   "cell_type": "code",
   "execution_count": null,
   "metadata": {},
   "outputs": [],
   "source": []
  }
 ],
 "metadata": {
  "kernelspec": {
   "display_name": "Python 3",
   "language": "python",
   "name": "python3"
  },
  "language_info": {
   "codemirror_mode": {
    "name": "ipython",
    "version": 3
   },
   "file_extension": ".py",
   "mimetype": "text/x-python",
   "name": "python",
   "nbconvert_exporter": "python",
   "pygments_lexer": "ipython3",
   "version": "3.7.4"
  }
 },
 "nbformat": 4,
 "nbformat_minor": 2
}
